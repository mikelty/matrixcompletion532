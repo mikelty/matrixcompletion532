{
 "cells": [
  {
   "cell_type": "code",
   "execution_count": 1,
   "metadata": {
    "ExecuteTime": {
     "end_time": "2019-12-29T21:22:28.600952Z",
     "start_time": "2019-12-29T21:22:27.802842Z"
    }
   },
   "outputs": [],
   "source": [
    "import numpy as np\n",
    "from scipy.io import loadmat\n",
    "import matplotlib.pyplot as plt"
   ]
  },
  {
   "cell_type": "code",
   "execution_count": 2,
   "metadata": {
    "ExecuteTime": {
     "end_time": "2019-12-29T21:22:28.621174Z",
     "start_time": "2019-12-29T21:22:28.603846Z"
    }
   },
   "outputs": [
    {
     "data": {
      "text/html": [
       "<style>.container { width:100% !important; }</style>"
      ],
      "text/plain": [
       "<IPython.core.display.HTML object>"
      ]
     },
     "metadata": {},
     "output_type": "display_data"
    }
   ],
   "source": [
    "#for better view\n",
    "from IPython.core.display import display, HTML\n",
    "display(HTML(\"<style>.container { width:100% !important; }</style>\"))\n",
    "np.set_printoptions(edgeitems=30, linewidth=300,precision=2)"
   ]
  },
  {
   "cell_type": "code",
   "execution_count": 3,
   "metadata": {
    "ExecuteTime": {
     "end_time": "2019-12-29T21:22:28.655205Z",
     "start_time": "2019-12-29T21:22:28.627023Z"
    }
   },
   "outputs": [],
   "source": [
    "Xtrue = loadmat(\"incomplete.mat\")[\"Xtrue\"]\n",
    "Y1 = loadmat(\"incomplete.mat\")[\"Y1\"]\n",
    "Y2 = loadmat(\"incomplete.mat\")[\"Y2\"]\n",
    "Y3 = loadmat(\"incomplete.mat\")[\"Y3\"]"
   ]
  },
  {
   "cell_type": "code",
   "execution_count": 4,
   "metadata": {
    "ExecuteTime": {
     "end_time": "2019-12-29T21:22:28.698135Z",
     "start_time": "2019-12-29T21:22:28.658534Z"
    }
   },
   "outputs": [],
   "source": [
    "### DO NOT change\n",
    "def ItSingValThresh(Y, r):\n",
    "    \"\"\"\n",
    "    Iterative Singular Value Thresholding function for Matrix Completion\n",
    "    Assumes elements of Y are integers between 0 and 10^6\n",
    "    \"\"\"\n",
    "    tol = 10**(-6)  # difference between iterates at termination\n",
    "    n,p = Y.shape \n",
    "    X = np.array(Y) #make a copy so operations do not mutate the original\n",
    "    X[np.isnan(X)] = 0 # Fill in missing entries with zeros\n",
    "\n",
    "    err = 10**6 \n",
    "    \n",
    "    while err > tol:\n",
    "        U,s,VT = np.linalg.svd(X, full_matrices=False)\n",
    "        V = VT.T ; S = np.diag(s)\n",
    "        Xnew = (U[:,:r] @ S[:r,:r] @ V[:,:r].T).round()\n",
    "        for i in range(n):\n",
    "            for j in range(p):\n",
    "                if Y[i,j] < 10**6 and Y[i,j] > 0:\n",
    "                    Xnew[i,j] = Y[i,j]\n",
    "        err = np.linalg.norm(X-Xnew,'fro') \n",
    "        X = Xnew\n",
    "    return X"
   ]
  },
  {
   "cell_type": "code",
   "execution_count": 5,
   "metadata": {
    "ExecuteTime": {
     "end_time": "2019-12-29T21:22:28.731252Z",
     "start_time": "2019-12-29T21:22:28.703241Z"
    }
   },
   "outputs": [
    {
     "data": {
      "text/plain": [
       "array([[30, 12, 24,  8, 12, 14, 12, 12, 22, 24, 14, 10, 14, 24, 20, 12],\n",
       "       [30, 21, 15, 11, 21, 26, 12, 21, 10, 15, 17, 16,  8, 15, 23, 12],\n",
       "       [15,  9,  9,  5,  9, 11,  6,  9,  7,  9,  8,  7,  5,  9, 11,  6],\n",
       "       [35, 16, 26, 10, 16, 19, 14, 16, 23, 26, 17, 13, 15, 26, 24, 14],\n",
       "       [15,  9,  9,  5,  9, 11,  6,  9,  7,  9,  8,  7,  5,  9, 11,  6],\n",
       "       [25, 11, 19,  7, 11, 13, 10, 11, 17, 19, 12,  9, 11, 19, 17, 10],\n",
       "       [45, 24, 30, 14, 24, 29, 18, 24, 25, 30, 23, 19, 17, 30, 32, 18],\n",
       "       [30, 15, 21,  9, 15, 18, 12, 15, 18, 21, 15, 12, 12, 21, 21, 12],\n",
       "       [25, 11, 19,  7, 11, 13, 10, 11, 17, 19, 12,  9, 11, 19, 17, 10],\n",
       "       [20, 13, 11,  7, 13, 16,  8, 13,  8, 11, 11, 10,  6, 11, 15,  8],\n",
       "       [45, 24, 30, 14, 24, 29, 18, 24, 25, 30, 23, 19, 17, 30, 32, 18],\n",
       "       [30, 15, 21,  9, 15, 18, 12, 15, 18, 21, 15, 12, 12, 21, 21, 12],\n",
       "       [25, 17, 13,  9, 17, 21, 10, 17,  9, 13, 14, 13,  7, 13, 19, 10],\n",
       "       [40, 20, 28, 12, 20, 24, 16, 20, 24, 28, 20, 16, 16, 28, 28, 16],\n",
       "       [30, 18, 18, 10, 18, 22, 12, 18, 14, 18, 16, 14, 10, 18, 22, 12],\n",
       "       [25, 11, 19,  7, 11, 13, 10, 11, 17, 19, 12,  9, 11, 19, 17, 10]], dtype=uint8)"
      ]
     },
     "execution_count": 5,
     "metadata": {},
     "output_type": "execute_result"
    }
   ],
   "source": [
    "Xtrue"
   ]
  },
  {
   "cell_type": "code",
   "execution_count": 16,
   "metadata": {
    "ExecuteTime": {
     "end_time": "2019-12-29T21:23:49.461833Z",
     "start_time": "2019-12-29T21:23:49.416450Z"
    }
   },
   "outputs": [
    {
     "name": "stdout",
     "output_type": "stream",
     "text": [
      "8999.0\n"
     ]
    }
   ],
   "source": [
    "isvt_e1 = np.linalg.norm(Xtrue-ItSingValThresh(Y1,2),'fro')**2\n",
    "print(isvt_e1)"
   ]
  },
  {
   "cell_type": "code",
   "execution_count": 18,
   "metadata": {
    "ExecuteTime": {
     "end_time": "2019-12-29T21:24:11.359586Z",
     "start_time": "2019-12-29T21:24:11.329395Z"
    }
   },
   "outputs": [
    {
     "name": "stdout",
     "output_type": "stream",
     "text": [
      "14.0\n"
     ]
    }
   ],
   "source": [
    "isvt_e2 = np.linalg.norm(Xtrue-ItSingValThresh(Y2,2),'fro')**2\n",
    "print(isvt_e2)"
   ]
  },
  {
   "cell_type": "code",
   "execution_count": 19,
   "metadata": {
    "ExecuteTime": {
     "end_time": "2019-12-29T21:24:19.831723Z",
     "start_time": "2019-12-29T21:24:19.818950Z"
    }
   },
   "outputs": [
    {
     "name": "stdout",
     "output_type": "stream",
     "text": [
      "0.0\n"
     ]
    }
   ],
   "source": [
    "isvt_e3 = np.linalg.norm(Xtrue-ItSingValThresh(Y3,2),'fro')**2\n",
    "print(isvt_e3)"
   ]
  },
  {
   "cell_type": "code",
   "execution_count": 9,
   "metadata": {
    "ExecuteTime": {
     "end_time": "2019-12-29T21:22:28.945197Z",
     "start_time": "2019-12-29T21:22:28.924357Z"
    }
   },
   "outputs": [],
   "source": [
    "#code based on lecture and paper\n",
    "#link to paper:https://arxiv.org/pdf/1401.2451.pdf (Algorithm 1)\n",
    "#todo: remove round() when calculating Znew?\n",
    "#idea: how about adding an r (or even a list of r's corresponding to lambda) just like isvt algo. above?\n",
    "def SoftImpute(X, params, r):\n",
    "    '''\n",
    "    soft impute algorithm for one lambda\n",
    "    assumes all matrix entries less than 1e6\n",
    "    an iteration is similar to isvt\n",
    "    uses descending regularization parameters over iterations\n",
    "    uses matrix shrinkage operator to regularize the singular values\n",
    "    '''\n",
    "    Z=np.zeros_like(X)\n",
    "    n,p=X.shape\n",
    "    ans=[]\n",
    "    for lam in params:\n",
    "        eps = 10**(-1) \n",
    "        y = eps + 1\n",
    "        while y > eps:\n",
    "            for i in range(n):\n",
    "                for j in range(p):\n",
    "                    if X[i,j] < 10**6 and X[i,j] > 0:\n",
    "                        Z[i,j] = X[i,j]\n",
    "            U,s,VT = np.linalg.svd(Z)\n",
    "            if(max(s)<lam):\n",
    "                break\n",
    "            slam=[max(0,i-lam) for i in s]; V=VT.T; S = np.diag(slam)\n",
    "            Znew = (U[:,:r] @ S[:r,:r] @ V[:,:r].T)\n",
    "            y = np.linalg.norm(Znew-Z,'fro')**2 / np.linalg.norm(Z,'fro')**2\n",
    "            Z = Znew\n",
    "        ans.append(Z)\n",
    "    return ans"
   ]
  },
  {
   "cell_type": "code",
   "execution_count": 28,
   "metadata": {
    "ExecuteTime": {
     "end_time": "2019-12-29T21:32:57.702351Z",
     "start_time": "2019-12-29T21:32:56.886476Z"
    }
   },
   "outputs": [
    {
     "data": {
      "image/png": "[encoded data removed]",
      "text/plain": [
       "<Figure size 432x288 with 1 Axes>"
      ]
     },
     "metadata": {
      "needs_background": "light"
     },
     "output_type": "display_data"
    },
    {
     "name": "stdout",
     "output_type": "stream",
     "text": [
      "124.99304013377694\n"
     ]
    }
   ],
   "source": [
    "params=np.array([0.999999**i for i in range(1000)])\n",
    "err=[np.linalg.norm(Xtrue-Z,'fro')**2 for Z in SoftImpute(Y1,params,2)]\n",
    "iterations=np.array([i for i in range(len(err))])\n",
    "plt.title('Error Against Number of Iterations for Y1 using Soft Impute')\n",
    "plt.xlabel('Number of iterations', fontsize=18)\n",
    "plt.ylabel('Error', fontsize=16)\n",
    "plt.plot(iterations,err,label='new (soft impute)')\n",
    "plt.plot(iterations,[isvt_e1]*len(err),label='old (isvt)')\n",
    "plt.legend()\n",
    "plt.show()\n",
    "print(err[-1])"
   ]
  },
  {
   "cell_type": "code",
   "execution_count": 29,
   "metadata": {
    "ExecuteTime": {
     "end_time": "2019-12-29T21:33:16.079642Z",
     "start_time": "2019-12-29T21:33:15.801084Z"
    }
   },
   "outputs": [
    {
     "data": {
      "image/png": "[encoded data removed]",
      "text/plain": [
       "<Figure size 432x288 with 1 Axes>"
      ]
     },
     "metadata": {
      "needs_background": "light"
     },
     "output_type": "display_data"
    },
    {
     "name": "stdout",
     "output_type": "stream",
     "text": [
      "1.517781516959495\n"
     ]
    }
   ],
   "source": [
    "params=np.array([50,25,12,6,3,1,0.5,0.25,0.1,0.01,0.001,0.0001,0.00001,0.000001])\n",
    "err=[np.linalg.norm(Xtrue-Z,'fro')**2 for Z in SoftImpute(Y2,params,2)]\n",
    "iterations=np.array([i for i in range(len(err))])\n",
    "plt.title('Error Against Number of Iterations for Y2 using Soft Impute')\n",
    "plt.xlabel('Number of iterations', fontsize=18)\n",
    "plt.ylabel('Error', fontsize=16)\n",
    "plt.plot(iterations,err)\n",
    "plt.plot(iterations,[isvt_e2]*len(err),label='old (isvt)')\n",
    "plt.legend()\n",
    "plt.show()\n",
    "print(err[-1])"
   ]
  },
  {
   "cell_type": "code",
   "execution_count": 30,
   "metadata": {
    "ExecuteTime": {
     "end_time": "2019-12-29T21:33:49.165334Z",
     "start_time": "2019-12-29T21:33:48.879848Z"
    }
   },
   "outputs": [
    {
     "data": {
      "image/png": "[encoded data removed]",
      "text/plain": [
       "<Figure size 432x288 with 1 Axes>"
      ]
     },
     "metadata": {
      "needs_background": "light"
     },
     "output_type": "display_data"
    },
    {
     "name": "stdout",
     "output_type": "stream",
     "text": [
      "0.0009133068399137951\n"
     ]
    }
   ],
   "source": [
    "params=np.array([50,25,12,6,3,1,0.5,0.25,0.1,0.01,0.001])\n",
    "err=[np.linalg.norm(Xtrue-Z,'fro')**2 for Z in SoftImpute(Y3,params,2)]\n",
    "iterations=np.array([i for i in range(len(err))])\n",
    "plt.title('Error Against Number of Iterations for Y3 using Soft Impute')\n",
    "plt.xlabel('Number of iterations', fontsize=18)\n",
    "plt.ylabel('Error', fontsize=16)\n",
    "plt.plot(iterations,err)\n",
    "plt.plot(iterations,[isvt_e3]*len(err),label='old (isvt)')\n",
    "plt.legend()\n",
    "plt.show()\n",
    "print(err[-1])"
   ]
  },
  {
   "cell_type": "code",
   "execution_count": 13,
   "metadata": {
    "ExecuteTime": {
     "end_time": "2019-12-29T21:22:31.037224Z",
     "start_time": "2019-12-29T21:22:31.015414Z"
    }
   },
   "outputs": [],
   "source": [
    "def RandSVD(B,k,p,q):\n",
    "    A=B.copy()\n",
    "    m,n=A.shape\n",
    "    A[np.isnan(A)]=0\n",
    "    O=np.random.normal(size=(n,k+p))\n",
    "    Y=np.linalg.matrix_power(A@A.T,q)@A@O\n",
    "    V,R=np.linalg.qr(Y)\n",
    "    B=(V.T)@A\n",
    "    Phat,s,QT=np.linalg.svd(B)\n",
    "    Q=QT.T\n",
    "    S=np.diag(s)[:k,:k]\n",
    "    P=V@Phat[:,:k]\n",
    "    _,cols=S.shape\n",
    "    return P@S@Q[:,:k].T"
   ]
  },
  {
   "cell_type": "code",
   "execution_count": 32,
   "metadata": {
    "ExecuteTime": {
     "end_time": "2019-12-29T21:35:04.452395Z",
     "start_time": "2019-12-29T21:35:04.378846Z"
    }
   },
   "outputs": [
    {
     "name": "stdout",
     "output_type": "stream",
     "text": [
      "old (isvt): 8999.0\n",
      "new (random svd) 168.9695657082258\n"
     ]
    }
   ],
   "source": [
    "from itertools import product\n",
    "pqproduct=product([0,0,1,1,2,2,5,5,10,10,50,50],repeat=2)\n",
    "allpqs=[list(x) for x in pqproduct]\n",
    "allresults=[np.linalg.norm(Xtrue-RandSVD(Y1,2,p,q),'fro') for p,q in allpqs]\n",
    "print(f'old (isvt): {isvt_e1}\\nnew (random svd) {min(allresults)}')"
   ]
  },
  {
   "cell_type": "code",
   "execution_count": 15,
   "metadata": {
    "ExecuteTime": {
     "end_time": "2019-12-29T21:22:31.253030Z",
     "start_time": "2019-12-29T21:22:31.231144Z"
    }
   },
   "outputs": [
    {
     "name": "stdout",
     "output_type": "stream",
     "text": [
      "[0, 50]\n"
     ]
    }
   ],
   "source": [
    "minidx=np.argmin(allresults)\n",
    "print(allpqs[minidx])"
   ]
  }
 ],
 "metadata": {
  "kernelspec": {
   "display_name": "Python 3",
   "language": "python",
   "name": "python3"
  },
  "language_info": {
   "codemirror_mode": {
    "name": "ipython",
    "version": 3
   },
   "file_extension": ".py",
   "mimetype": "text/x-python",
   "name": "python",
   "nbconvert_exporter": "python",
   "pygments_lexer": "ipython3",
   "version": "3.8.0"
  }
 },
 "nbformat": 4,
 "nbformat_minor": 4
}
